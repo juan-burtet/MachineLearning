{
 "cells": [
  {
   "cell_type": "markdown",
   "metadata": {},
   "source": [
    "# Tarefa 2: implementação de um classificador linear"
   ]
  },
  {
   "cell_type": "markdown",
   "metadata": {},
   "source": [
    "## Nesta tarefa você deverá implementar um Classificador Linear e ajustá-lo aos dados em anexo. Mediremos o desempenho por meio da Acurácia nos próprios dados (o que é um erro, mas veremos maneiras melhores em semanas posteriores). Seu objetivo é encontrar o ajuste com a maior acurácia possível.\n",
    "\n",
    "* Você pode utilizar a linguagem de programação que desejar;\n",
    "* A implementação não deve utilizar bibliotecas que implementam a técnica diretamente, mas bibliotecas que auxiliem no processo podem ser usadas (e.g. bibliotecas numéricas);\n",
    "* Você deve entregar no e-aula o código-fonte e um relatório curto mostrando o resultado e os parâmetros do modelo;\n",
    "* Em adição, a acurácia obtida deverá ser digitada neste formulário: https://docs.google.com/forms/d/e/1FAIpQLSd5wxBITO8fDvUNvscpmk5c3L4i4wb5KxUlSeQQbaIgfPkq9Q/viewform?usp=sf_link\n",
    "* Um ranking com as acurácias obtidas será publicado no e-aula posteriormente."
   ]
  },
  {
   "cell_type": "markdown",
   "metadata": {},
   "source": [
    "### Importando pacotes"
   ]
  },
  {
   "cell_type": "code",
   "execution_count": 1,
   "metadata": {},
   "outputs": [],
   "source": [
    "import pandas as pd\n",
    "import numpy as np\n",
    "import seaborn as sns"
   ]
  },
  {
   "cell_type": "markdown",
   "metadata": {},
   "source": [
    "### Análise do Dataset"
   ]
  },
  {
   "cell_type": "code",
   "execution_count": 4,
   "metadata": {},
   "outputs": [],
   "source": [
    "dataset = pd.read_csv(\"../Datasets/dogs_cats.csv\")\n",
    "dataset = dataset.loc[:, ['comprimento', 'peso', 'classe']]"
   ]
  },
  {
   "cell_type": "code",
   "execution_count": 16,
   "metadata": {},
   "outputs": [
    {
     "data": {
      "text/html": [
       "<div>\n",
       "<style scoped>\n",
       "    .dataframe tbody tr th:only-of-type {\n",
       "        vertical-align: middle;\n",
       "    }\n",
       "\n",
       "    .dataframe tbody tr th {\n",
       "        vertical-align: top;\n",
       "    }\n",
       "\n",
       "    .dataframe thead th {\n",
       "        text-align: right;\n",
       "    }\n",
       "</style>\n",
       "<table border=\"1\" class=\"dataframe\">\n",
       "  <thead>\n",
       "    <tr style=\"text-align: right;\">\n",
       "      <th></th>\n",
       "      <th>comprimento</th>\n",
       "      <th>peso</th>\n",
       "      <th>classe</th>\n",
       "    </tr>\n",
       "  </thead>\n",
       "  <tbody>\n",
       "    <tr>\n",
       "      <th>0</th>\n",
       "      <td>45.231415</td>\n",
       "      <td>431.548671</td>\n",
       "      <td>cachorro</td>\n",
       "    </tr>\n",
       "    <tr>\n",
       "      <th>1</th>\n",
       "      <td>38.003753</td>\n",
       "      <td>517.870914</td>\n",
       "      <td>gato</td>\n",
       "    </tr>\n",
       "    <tr>\n",
       "      <th>2</th>\n",
       "      <td>53.608592</td>\n",
       "      <td>444.025762</td>\n",
       "      <td>cachorro</td>\n",
       "    </tr>\n",
       "    <tr>\n",
       "      <th>3</th>\n",
       "      <td>39.315731</td>\n",
       "      <td>524.066579</td>\n",
       "      <td>gato</td>\n",
       "    </tr>\n",
       "    <tr>\n",
       "      <th>4</th>\n",
       "      <td>45.581301</td>\n",
       "      <td>450.552000</td>\n",
       "      <td>cachorro</td>\n",
       "    </tr>\n",
       "    <tr>\n",
       "      <th>...</th>\n",
       "      <td>...</td>\n",
       "      <td>...</td>\n",
       "      <td>...</td>\n",
       "    </tr>\n",
       "    <tr>\n",
       "      <th>1995</th>\n",
       "      <td>37.590457</td>\n",
       "      <td>587.274926</td>\n",
       "      <td>gato</td>\n",
       "    </tr>\n",
       "    <tr>\n",
       "      <th>1996</th>\n",
       "      <td>43.818870</td>\n",
       "      <td>416.846089</td>\n",
       "      <td>cachorro</td>\n",
       "    </tr>\n",
       "    <tr>\n",
       "      <th>1997</th>\n",
       "      <td>36.876470</td>\n",
       "      <td>483.215531</td>\n",
       "      <td>gato</td>\n",
       "    </tr>\n",
       "    <tr>\n",
       "      <th>1998</th>\n",
       "      <td>49.415613</td>\n",
       "      <td>514.637485</td>\n",
       "      <td>cachorro</td>\n",
       "    </tr>\n",
       "    <tr>\n",
       "      <th>1999</th>\n",
       "      <td>37.640400</td>\n",
       "      <td>548.746906</td>\n",
       "      <td>gato</td>\n",
       "    </tr>\n",
       "  </tbody>\n",
       "</table>\n",
       "<p>2000 rows × 3 columns</p>\n",
       "</div>"
      ],
      "text/plain": [
       "      comprimento        peso    classe\n",
       "0       45.231415  431.548671  cachorro\n",
       "1       38.003753  517.870914      gato\n",
       "2       53.608592  444.025762  cachorro\n",
       "3       39.315731  524.066579      gato\n",
       "4       45.581301  450.552000  cachorro\n",
       "...           ...         ...       ...\n",
       "1995    37.590457  587.274926      gato\n",
       "1996    43.818870  416.846089  cachorro\n",
       "1997    36.876470  483.215531      gato\n",
       "1998    49.415613  514.637485  cachorro\n",
       "1999    37.640400  548.746906      gato\n",
       "\n",
       "[2000 rows x 3 columns]"
      ]
     },
     "execution_count": 16,
     "metadata": {},
     "output_type": "execute_result"
    }
   ],
   "source": [
    "dataset"
   ]
  },
  {
   "cell_type": "code",
   "execution_count": 51,
   "metadata": {},
   "outputs": [
    {
     "data": {
      "text/html": [
       "<div>\n",
       "<style scoped>\n",
       "    .dataframe tbody tr th:only-of-type {\n",
       "        vertical-align: middle;\n",
       "    }\n",
       "\n",
       "    .dataframe tbody tr th {\n",
       "        vertical-align: top;\n",
       "    }\n",
       "\n",
       "    .dataframe thead th {\n",
       "        text-align: right;\n",
       "    }\n",
       "</style>\n",
       "<table border=\"1\" class=\"dataframe\">\n",
       "  <thead>\n",
       "    <tr style=\"text-align: right;\">\n",
       "      <th></th>\n",
       "      <th>comprimento</th>\n",
       "      <th>peso</th>\n",
       "    </tr>\n",
       "  </thead>\n",
       "  <tbody>\n",
       "    <tr>\n",
       "      <th>count</th>\n",
       "      <td>2000.000000</td>\n",
       "      <td>2000.000000</td>\n",
       "    </tr>\n",
       "    <tr>\n",
       "      <th>mean</th>\n",
       "      <td>45.333692</td>\n",
       "      <td>528.115349</td>\n",
       "    </tr>\n",
       "    <tr>\n",
       "      <th>std</th>\n",
       "      <td>6.654831</td>\n",
       "      <td>74.081920</td>\n",
       "    </tr>\n",
       "    <tr>\n",
       "      <th>min</th>\n",
       "      <td>25.447014</td>\n",
       "      <td>281.452391</td>\n",
       "    </tr>\n",
       "    <tr>\n",
       "      <th>25%</th>\n",
       "      <td>40.386562</td>\n",
       "      <td>478.410031</td>\n",
       "    </tr>\n",
       "    <tr>\n",
       "      <th>50%</th>\n",
       "      <td>45.508933</td>\n",
       "      <td>524.830624</td>\n",
       "    </tr>\n",
       "    <tr>\n",
       "      <th>75%</th>\n",
       "      <td>50.160534</td>\n",
       "      <td>575.425169</td>\n",
       "    </tr>\n",
       "    <tr>\n",
       "      <th>max</th>\n",
       "      <td>64.303254</td>\n",
       "      <td>786.648409</td>\n",
       "    </tr>\n",
       "  </tbody>\n",
       "</table>\n",
       "</div>"
      ],
      "text/plain": [
       "       comprimento         peso\n",
       "count  2000.000000  2000.000000\n",
       "mean     45.333692   528.115349\n",
       "std       6.654831    74.081920\n",
       "min      25.447014   281.452391\n",
       "25%      40.386562   478.410031\n",
       "50%      45.508933   524.830624\n",
       "75%      50.160534   575.425169\n",
       "max      64.303254   786.648409"
      ]
     },
     "execution_count": 51,
     "metadata": {},
     "output_type": "execute_result"
    }
   ],
   "source": [
    "dataset.describe()"
   ]
  },
  {
   "cell_type": "code",
   "execution_count": 9,
   "metadata": {},
   "outputs": [
    {
     "data": {
      "text/plain": [
       "gato        1000\n",
       "cachorro    1000\n",
       "Name: classe, dtype: int64"
      ]
     },
     "execution_count": 9,
     "metadata": {},
     "output_type": "execute_result"
    }
   ],
   "source": [
    "dataset['classe'].value_counts()"
   ]
  },
  {
   "cell_type": "code",
   "execution_count": 12,
   "metadata": {},
   "outputs": [
    {
     "data": {
      "text/plain": [
       "<matplotlib.axes._subplots.AxesSubplot at 0x1ae77ecc288>"
      ]
     },
     "execution_count": 12,
     "metadata": {},
     "output_type": "execute_result"
    },
    {
     "data": {
      "image/png": "[encoded data removed]",
      "text/plain": [
       "<Figure size 432x288 with 1 Axes>"
      ]
     },
     "metadata": {
      "needs_background": "light"
     },
     "output_type": "display_data"
    }
   ],
   "source": [
    "sns.scatterplot(data=dataset, x='peso', y='comprimento', hue='classe')"
   ]
  },
  {
   "cell_type": "markdown",
   "metadata": {},
   "source": [
    "### Entrada"
   ]
  },
  {
   "cell_type": "code",
   "execution_count": 30,
   "metadata": {},
   "outputs": [
    {
     "data": {
      "text/plain": [
       "array([[ 45.23141496,  38.00375264,  53.60859154, ...,  36.87647029,\n",
       "         49.41561264,  37.64040028],\n",
       "       [431.54867128, 517.87091377, 444.02576183, ..., 483.21553099,\n",
       "        514.63748468, 548.74690568]])"
      ]
     },
     "execution_count": 30,
     "metadata": {},
     "output_type": "execute_result"
    }
   ],
   "source": [
    "X = dataset.loc[:, ['comprimento', 'peso']]\n",
    "X = X.to_numpy().T\n",
    "X"
   ]
  },
  {
   "cell_type": "code",
   "execution_count": 31,
   "metadata": {},
   "outputs": [
    {
     "data": {
      "text/plain": [
       "(2, 2000)"
      ]
     },
     "execution_count": 31,
     "metadata": {},
     "output_type": "execute_result"
    }
   ],
   "source": [
    "X.shape"
   ]
  },
  {
   "cell_type": "markdown",
   "metadata": {},
   "source": [
    "### Saída"
   ]
  },
  {
   "cell_type": "code",
   "execution_count": 32,
   "metadata": {},
   "outputs": [
    {
     "data": {
      "text/plain": [
       "array([[1, 0, 1, ..., 0, 1, 0]], dtype=int64)"
      ]
     },
     "execution_count": 32,
     "metadata": {},
     "output_type": "execute_result"
    }
   ],
   "source": [
    "Y = dataset.loc[:, ['classe']]\n",
    "Y = Y.replace({'gato': 0, 'cachorro': 1})\n",
    "Y = Y.to_numpy().T\n",
    "Y"
   ]
  },
  {
   "cell_type": "code",
   "execution_count": 33,
   "metadata": {},
   "outputs": [
    {
     "data": {
      "text/plain": [
       "(1, 2000)"
      ]
     },
     "execution_count": 33,
     "metadata": {},
     "output_type": "execute_result"
    }
   ],
   "source": [
    "Y.shape"
   ]
  },
  {
   "cell_type": "markdown",
   "metadata": {},
   "source": [
    "### Parâmetros a serem treinados"
   ]
  },
  {
   "cell_type": "code",
   "execution_count": 52,
   "metadata": {},
   "outputs": [],
   "source": [
    "def define_parametros():\n",
    "  w = np.zeros((2,1))\n",
    "  b = 0\n",
    "  return w, b"
   ]
  },
  {
   "cell_type": "code",
   "execution_count": 41,
   "metadata": {},
   "outputs": [],
   "source": [
    "def sigmoid(x):\n",
    "  return 1/(1+np.exp(-x))"
   ]
  },
  {
   "cell_type": "code",
   "execution_count": 53,
   "metadata": {},
   "outputs": [],
   "source": [
    "def calcula_custo(A, Y):\n",
    "  m = Y.shape[1]\n",
    "  \n",
    "  custo = Y * np.log(A) + (1-Y) * np.log(1-A)\n",
    "  custo = np.sum(custo)\n",
    "  custo = -1/m * custo\n",
    "  \n",
    "  return custo\n",
    "\n",
    "def calcula_gradientes(X, Y, A):\n",
    "  m = X.shape[1]\n",
    "  diff = A - Y\n",
    "  \n",
    "  \n",
    "  dw = np.dot(X, diff.T)\n",
    "  dw = 1/m * dw\n",
    "  \n",
    "  db = np.sum(diff)\n",
    "  db = 1/m * db\n",
    "  \n",
    "  return {\n",
    "    'dw': dw,\n",
    "    'db': db,\n",
    "  }\n",
    "\n",
    "def calcula_acuracia(w, b, X, Y, threshold=0.5):\n",
    "  \n",
    "  Z = np.dot(w.T, X) + b\n",
    "  A = sigmoid(Z)\n",
    "  \n",
    "  acertos = 0\n",
    "  for i in range(A.shape[1]):\n",
    "    \n",
    "    valor = 0\n",
    "    if A[0,i] >= threshold:\n",
    "      valor = 1\n",
    "    \n",
    "    if Y[0,i] == valor:\n",
    "      acertos += 1\n",
    "  \n",
    "  acuracia = acertos/A.shape[1]\n",
    "  return acuracia"
   ]
  },
  {
   "cell_type": "code",
   "execution_count": 43,
   "metadata": {},
   "outputs": [],
   "source": [
    "def propaga(w, b, X, Y):\n",
    "  \n",
    "  Z = np.dot(w.T, X) + b\n",
    "  A = sigmoid(Z)\n",
    "  custo = calcula_custo(A, Y)\n",
    "  gradientes = calcula_gradientes(X, Y, A)\n",
    "  \n",
    "  return gradientes, custo"
   ]
  },
  {
   "cell_type": "code",
   "execution_count": 56,
   "metadata": {},
   "outputs": [],
   "source": [
    "def otimizacao(w, b, X, Y, n_iter, lr):\n",
    "  \n",
    "  custos = []\n",
    "  for i in range(n_iter):\n",
    "    \n",
    "    gradiente, custo = propaga(w, b, X, Y)\n",
    "\n",
    "    dw, db = gradiente['dw'], gradiente['db']\n",
    "    w, b = w - (lr * dw), b - (lr * db)\n",
    "    \n",
    "    if i % 100 == 0:\n",
    "      custos.append(custo)\n",
    "      print('custo na iteração %d: %f' % (i, custo))\n",
    "  \n",
    "  if i % 100 != 0:\n",
    "    custos.append(custo)\n",
    "    \n",
    "  return w, b, custos"
   ]
  },
  {
   "cell_type": "code",
   "execution_count": 58,
   "metadata": {},
   "outputs": [],
   "source": [
    "def model(X, Y, n_iter=2000, lr=0.5):\n",
    "  \n",
    "  w, b = define_parametros()\n",
    "  w, b, custos = otimizacao(w, b, X, Y, n_iter, lr)\n",
    "  acuracia = calcula_acuracia(w, b, X, Y)\n",
    "  \n",
    "  print('----------------')\n",
    "  print('Custo final:', custos[-1])\n",
    "  print(\"Acurácia:\", acuracia)\n",
    "  \n",
    "  data = {\n",
    "    'w': w,\n",
    "    'b': b,\n",
    "    'custos': custos,\n",
    "    'acuracia': acuracia,\n",
    "    'n_iter': n_iter,\n",
    "    'lr': 0.5,\n",
    "  }\n",
    "  \n",
    "  return data"
   ]
  },
  {
   "cell_type": "code",
   "execution_count": 59,
   "metadata": {},
   "outputs": [
    {
     "name": "stdout",
     "output_type": "stream",
     "text": [
      "custo na iteração 0: 0.693147\n",
      "custo na iteração 100: 0.172824\n",
      "custo na iteração 200: 0.101480\n",
      "custo na iteração 300: 0.070617\n",
      "custo na iteração 400: 0.053765\n",
      "custo na iteração 500: 0.043255\n",
      "custo na iteração 600: 0.036111\n",
      "custo na iteração 700: 0.030955\n",
      "custo na iteração 800: 0.027066\n",
      "custo na iteração 900: 0.024032\n",
      "custo na iteração 1000: 0.021601\n",
      "custo na iteração 1100: 0.019611\n",
      "custo na iteração 1200: 0.017953\n",
      "custo na iteração 1300: 0.016551\n",
      "custo na iteração 1400: 0.015350\n",
      "custo na iteração 1500: 0.014310\n",
      "custo na iteração 1600: 0.013400\n",
      "custo na iteração 1700: 0.012599\n",
      "custo na iteração 1800: 0.011887\n",
      "custo na iteração 1900: 0.011250\n",
      "----------------\n",
      "Custo final: 0.010683789954375017\n",
      "Acurácia: 1.0\n"
     ]
    },
    {
     "data": {
      "text/plain": [
       "{'w': array([[-10.37204924],\n",
       "        [  2.0925977 ]]),\n",
       " 'b': 8.0684523308416,\n",
       " 'custos': [0.6931471805599452,\n",
       "  0.17282372757651843,\n",
       "  0.10148043445377547,\n",
       "  0.07061698335111702,\n",
       "  0.05376546287075379,\n",
       "  0.043254939500963686,\n",
       "  0.036110726627621624,\n",
       "  0.030954640750290866,\n",
       "  0.027065683889130103,\n",
       "  0.02403180377664281,\n",
       "  0.02160113236769221,\n",
       "  0.019611355531565282,\n",
       "  0.01795331197843146,\n",
       "  0.016550960937887077,\n",
       "  0.015349749527751368,\n",
       "  0.014309548161194851,\n",
       "  0.013400194136796302,\n",
       "  0.012598587384714331,\n",
       "  0.011886743475269294,\n",
       "  0.011250455633325034,\n",
       "  0.010683789954375017],\n",
       " 'acuracia': 1.0,\n",
       " 'n_iter': 2000,\n",
       " 'lr': 0.5}"
      ]
     },
     "execution_count": 59,
     "metadata": {},
     "output_type": "execute_result"
    }
   ],
   "source": [
    "model(X,Y)"
   ]
  },
  {
   "cell_type": "code",
   "execution_count": null,
   "metadata": {},
   "outputs": [],
   "source": []
  }
 ],
 "metadata": {
  "kernelspec": {
   "display_name": "Python 3",
   "language": "python",
   "name": "python3"
  },
  "language_info": {
   "codemirror_mode": {
    "name": "ipython",
    "version": 3
   },
   "file_extension": ".py",
   "mimetype": "text/x-python",
   "name": "python",
   "nbconvert_exporter": "python",
   "pygments_lexer": "ipython3",
   "version": "3.7.6"
  }
 },
 "nbformat": 4,
 "nbformat_minor": 4
}
